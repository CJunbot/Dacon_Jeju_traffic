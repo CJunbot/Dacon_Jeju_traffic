{
 "nbformat": 4,
 "nbformat_minor": 0,
 "metadata": {
  "colab": {
   "provenance": [],
   "authorship_tag": "ABX9TyP6XYaWP7zFMfYxR8939i+r",
   "include_colab_link": true
  },
  "kernelspec": {
   "name": "python3",
   "display_name": "Python 3"
  },
  "language_info": {
   "name": "python"
  }
 },
 "cells": [
  {
   "cell_type": "markdown",
   "metadata": {
    "id": "view-in-github",
    "colab_type": "text",
    "pycharm": {
     "name": "#%% md\n"
    }
   },
   "source": [
    "<a href=\"https://colab.research.google.com/github/CJunbot/Dacon_Jeju_traffic/blob/master/Hyperparmeter_Optimization.ipynb\" target=\"_parent\"><img src=\"https://colab.research.google.com/assets/colab-badge.svg\" alt=\"Open In Colab\"/></a>"
   ]
  },
  {
   "cell_type": "code",
   "execution_count": null,
   "metadata": {
    "id": "8tsTz1L5wRqZ",
    "pycharm": {
     "name": "#%%\n"
    }
   },
   "outputs": [],
   "source": [
    "!git clone --recursive https://github.com/Microsoft/LightGBM \n",
    "!cd LightGBM && mkdir build && cd build\n",
    "!cmake -DUSE_GPU=1 ..\n",
    "!make -j4\n",
    "!pip uninstall lightgbm\n",
    "!cd ../python-package/ && python setup.py install"
   ]
  },
  {
   "cell_type": "code",
   "source": [
    "!pip install optuna"
   ],
   "metadata": {
    "id": "2AuHCxn2wU8_",
    "pycharm": {
     "name": "#%%\n"
    }
   },
   "execution_count": null,
   "outputs": []
  },
  {
   "cell_type": "code",
   "source": [
    "import optuna\n",
    "from optuna import Trial\n",
    "from optuna.samplers import TPESampler\n",
    "import pandas as pd\n",
    "import lightgbm as lgb\n",
    "from sklearn.model_selection import train_test_split\n",
    "from sklearn.metrics import mean_absolute_error\n",
    "\n",
    "sampler = TPESampler(seed=10)\n",
    "\n",
    "def objective(trial):\n",
    "    train = pd.read_parquet('data/train_after.parquet')\n",
    "    y = train['target']\n",
    "    x = train.drop(columns=['target'])\n",
    "    x_train, X_val, y_train, y_val = train_test_split(x, y, test_size=0.2, random_state=42)\n",
    "    d_train = lgb.Dataset(x_train, label=y_train,\n",
    "                          categorical_feature=['road_in_use', 'road_rating',\n",
    "                                           'road_name', 'connect_code', 'road_type',\n",
    "                                           'start_node_name',\n",
    "                                           'start_turn_restricted', 'end_node_name', 'end_turn_restricted'])\n",
    "    params = {\n",
    "        'objective': 'regression',\n",
    "        \"verbose\": -1,\n",
    "        'metric': 'mse',\n",
    "        'device_type': 'gpu',\n",
    "        'learning_rate': trial.suggest_float(\"learning_rate\", 1e-8, 1e-2),\n",
    "        'num_leaves': trial.suggest_int('num_leaves', 2, 1024),\n",
    "        'max_depth': trial.suggest_int('max_depth', 3, 15),\n",
    "        'min_child_samples': trial.suggest_int('min_child_samples', 5, 100),\n",
    "        'n_estimators': trial.suggest_int('n_estimators', 100, 3000),\n",
    "        'subsample': trial.suggest_float('subsample', 0.4, 1),\n",
    "    }\n",
    "\n",
    "    # Generate model\n",
    "    bst = lgb.train(params, d_train, 100)\n",
    "    MSE = mean_absolute_error(y_val, bst.predict(X_val))\n",
    "    return MSE\n",
    "\n",
    "\n",
    "if __name__ == \"__main__\":\n",
    "    study = optuna.create_study(direction=\"minimize\", sampler=sampler)\n",
    "    study.optimize(objective, n_trials=100)\n",
    "\n",
    "    print(\"Number of finished trials: {}\".format(len(study.trials)))\n",
    "\n",
    "    print(\"Best trial:\")\n",
    "    trial = study.best_trial\n",
    "\n",
    "    print(\"  Value: {}\".format(trial.value))\n",
    "\n",
    "    print(\"  Params: \")\n",
    "    for key, value in trial.params.items():\n",
    "        print(\"    {}: {}\".format(key, value))"
   ],
   "metadata": {
    "id": "AWJxeRSYwavu",
    "pycharm": {
     "name": "#%%\n"
    }
   },
   "execution_count": null,
   "outputs": []
  }
 ]
}